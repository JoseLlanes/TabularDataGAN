{
 "cells": [
  {
   "cell_type": "code",
   "execution_count": 13,
   "metadata": {},
   "outputs": [],
   "source": [
    "from sdv.datasets.demo import download_demo\n",
    "from sdv.single_table import GaussianCopulaSynthesizer\n",
    "from sdv.evaluation.single_table import evaluate_quality, run_diagnostic\n",
    "from sdv.evaluation.single_table import get_column_plot\n",
    "from sdv.metadata import SingleTableMetadata"
   ]
  },
  {
   "cell_type": "code",
   "execution_count": 2,
   "metadata": {},
   "outputs": [],
   "source": [
    "import matplotlib.pyplot as plt\n",
    "import numpy as np\n",
    "import pandas as pd"
   ]
  },
  {
   "cell_type": "code",
   "execution_count": 67,
   "metadata": {},
   "outputs": [
    {
     "name": "stderr",
     "output_type": "stream",
     "text": [
      "c:\\Users\\kdgh685\\OneDrive - AZCollaboration\\Escritorio\\Jose\\TabularDataGAN\\venv\\lib\\site-packages\\sdmetrics\\reports\\utils.py:660: UserWarning: Unexpected values (\"dsullivan@example.net\", \"steven59@example.org\", \"brandon15@example.net\", \"humphreyjennifer@example.net\", \"joshuabrown@example.net\" + more) in column \"guest_email\"\n",
      "  warnings.warn(warning_format.format(values=values, column=column))\n",
      "c:\\Users\\kdgh685\\OneDrive - AZCollaboration\\Escritorio\\Jose\\TabularDataGAN\\venv\\lib\\site-packages\\sdmetrics\\reports\\utils.py:660: UserWarning: Unexpected values (\"26 Mar 2020\", \"30 Mar 2020\", \"13 Jan 2020\", \"24 Oct 2020\", \"21 Feb 2020\" + more) in column \"checkin_date\"\n",
      "  warnings.warn(warning_format.format(values=values, column=column))\n",
      "c:\\Users\\kdgh685\\OneDrive - AZCollaboration\\Escritorio\\Jose\\TabularDataGAN\\venv\\lib\\site-packages\\sdmetrics\\reports\\utils.py:660: UserWarning: Unexpected values (\"21 Aug 2020\", \"20 May 2020\", \"nan\", \"10 Aug 2020\", \"15 Feb 2020\" + more) in column \"checkout_date\"\n",
      "  warnings.warn(warning_format.format(values=values, column=column))\n",
      "c:\\Users\\kdgh685\\OneDrive - AZCollaboration\\Escritorio\\Jose\\TabularDataGAN\\venv\\lib\\site-packages\\sdmetrics\\reports\\utils.py:660: UserWarning: Unexpected values (\"90469 Karla Knolls Apt. 781\n",
      "Susanberg, NC 28401\", \"1080 Ashley Creek Apt. 622\n",
      "West Amy, NM 25058\", \"99923 Anderson Trace Suite 861\n",
      "North Haley, TX 76565\", \"9301 John Parkways\n",
      "Thomasland, OH 61350\", \"126 George Tunnel\n",
      "Duranstad, MS 95176\" + more) in column \"billing_address\"\n",
      "  warnings.warn(warning_format.format(values=values, column=column))\n",
      "Creating report: 100%|██████████| 4/4 [00:08<00:00,  2.13s/it]\n"
     ]
    },
    {
     "name": "stdout",
     "output_type": "stream",
     "text": [
      "\n",
      "Overall Quality Score: 46.14%\n",
      "\n",
      "Properties:\n",
      "Column Shapes: 59.35%\n",
      "Column Pair Trends: 32.93%\n"
     ]
    }
   ],
   "source": [
    "real_data, metadata = download_demo(\n",
    "    modality='single_table',\n",
    "    dataset_name='fake_hotel_guests'\n",
    ")\n",
    "\n",
    "numerical_dist_list = [\n",
    "    \"norm\",\n",
    "    \"beta\",\n",
    "    \"truncnorm\",\n",
    "    \"gamma\",\n",
    "    \"uniform\",\n",
    "    \"gaussian_kde\",\n",
    "]\n",
    "\n",
    "synthesizer = GaussianCopulaSynthesizer(metadata, numerical_distributions=None)\n",
    "synthesizer.fit(data=real_data)\n",
    "\n",
    "synthetic_data = synthesizer.sample(num_rows=500)\n",
    "\n",
    "quality_report = evaluate_quality(\n",
    "    real_data,\n",
    "    synthetic_data,\n",
    "    make_meta\n",
    ")"
   ]
  },
  {
   "cell_type": "code",
   "execution_count": 63,
   "metadata": {},
   "outputs": [
    {
     "data": {
      "text/plain": [
       "0.4613875312960214"
      ]
     },
     "execution_count": 63,
     "metadata": {},
     "output_type": "execute_result"
    }
   ],
   "source": [
    "quality_report.get_score()"
   ]
  },
  {
   "cell_type": "code",
   "execution_count": 42,
   "metadata": {},
   "outputs": [
    {
     "ename": "TypeError",
     "evalue": "get_details() missing 1 required positional argument: 'property_name'",
     "output_type": "error",
     "traceback": [
      "\u001b[1;31m---------------------------------------------------------------------------\u001b[0m",
      "\u001b[1;31mTypeError\u001b[0m                                 Traceback (most recent call last)",
      "Cell \u001b[1;32mIn[42], line 1\u001b[0m\n\u001b[1;32m----> 1\u001b[0m \u001b[43mquality_report\u001b[49m\u001b[38;5;241;43m.\u001b[39;49m\u001b[43mget_details\u001b[49m\u001b[43m(\u001b[49m\u001b[43m)\u001b[49m\n",
      "\u001b[1;31mTypeError\u001b[0m: get_details() missing 1 required positional argument: 'property_name'"
     ]
    }
   ],
   "source": [
    "quality_report.get_details()"
   ]
  },
  {
   "cell_type": "code",
   "execution_count": 38,
   "metadata": {},
   "outputs": [
    {
     "data": {
      "text/plain": [
       "{'KSComplement': {'guest_email': {'score': nan},\n",
       "  'room_type': {'score': nan},\n",
       "  'billing_address': {'score': nan},\n",
       "  'has_rewards': {'score': nan},\n",
       "  'credit_card_number': {'score': nan},\n",
       "  'amenities_fee': {'score': 0.7041625041625041},\n",
       "  'checkin_date': {'score': 0.968},\n",
       "  'checkout_date': {'score': 0.9770833333333333},\n",
       "  'room_rate': {'score': 0.732}},\n",
       " 'TVComplement': {'guest_email': {'score': nan},\n",
       "  'checkout_date': {'score': nan},\n",
       "  'billing_address': {'score': nan},\n",
       "  'checkin_date': {'score': nan},\n",
       "  'credit_card_number': {'score': nan},\n",
       "  'amenities_fee': {'score': nan},\n",
       "  'room_rate': {'score': nan},\n",
       "  'has_rewards': {'score': 0.952},\n",
       "  'room_type': {'score': 0.9139999999999999}},\n",
       " 'CorrelationSimilarity': {('amenities_fee',\n",
       "   'checkin_date'): {'score': 0.9774023900925929, 'real': 0.031410278552705395, 'synthetic': 0.07660549836751955},\n",
       "  ('amenities_fee', 'checkout_date'): {'score': 0.9631401529993812,\n",
       "   'real': 0.023048744267760535,\n",
       "   'synthetic': 0.09676843826899831},\n",
       "  ('amenities_fee', 'room_rate'): {'score': 0.9585078009888932,\n",
       "   'real': 0.008852253551219266,\n",
       "   'synthetic': -0.07413214447099438},\n",
       "  ('checkin_date', 'checkout_date'): {'score': 0.9854189716269932,\n",
       "   'real': 0.9999527292582673,\n",
       "   'synthetic': 0.9707906725122537},\n",
       "  ('checkin_date', 'room_rate'): {'score': 0.997816349365746,\n",
       "   'real': 0.017819577544986795,\n",
       "   'synthetic': 0.022186878813494803},\n",
       "  ('checkout_date', 'room_rate'): {'score': 0.9983482494178054,\n",
       "   'real': 0.008202878443986001,\n",
       "   'synthetic': 0.011506379608375226}},\n",
       " 'ContingencySimilarity': {('has_rewards', 'room_type'): {'score': 0.848},\n",
       "  ('amenities_fee', 'has_rewards'): {'score': 0.6299999999999999},\n",
       "  ('checkin_date', 'has_rewards'): {'score': 0.902},\n",
       "  ('checkout_date', 'has_rewards'): {'score': 0.9520000000000001},\n",
       "  ('has_rewards', 'room_rate'): {'score': 0.8400000000000001},\n",
       "  ('amenities_fee', 'room_type'): {'score': 0.6239999999999999},\n",
       "  ('checkin_date', 'room_type'): {'score': 0.868},\n",
       "  ('checkout_date', 'room_type'): {'score': 0.9119999999999999},\n",
       "  ('room_rate', 'room_type'): {'score': 0.734}}}"
      ]
     },
     "execution_count": 38,
     "metadata": {},
     "output_type": "execute_result"
    }
   ],
   "source": [
    "quality_report._metric_results"
   ]
  },
  {
   "cell_type": "code",
   "execution_count": 37,
   "metadata": {},
   "outputs": [
    {
     "data": {
      "text/plain": [
       "['__gt__',\n",
       " '__hash__',\n",
       " '__init__',\n",
       " '__init_subclass__',\n",
       " '__le__',\n",
       " '__lt__',\n",
       " '__module__',\n",
       " '__ne__',\n",
       " '__new__',\n",
       " '__reduce__',\n",
       " '__reduce_ex__',\n",
       " '__repr__',\n",
       " '__setattr__',\n",
       " '__sizeof__',\n",
       " '__str__',\n",
       " '__subclasshook__',\n",
       " '__weakref__',\n",
       " '_metric_results',\n",
       " '_overall_quality_score',\n",
       " '_print_results',\n",
       " '_property_breakdown',\n",
       " '_property_errors',\n",
       " 'generate',\n",
       " 'get_details',\n",
       " 'get_properties',\n",
       " 'get_raw_result',\n",
       " 'get_score',\n",
       " 'get_visualization',\n",
       " 'load',\n",
       " 'save']"
      ]
     },
     "execution_count": 37,
     "metadata": {},
     "output_type": "execute_result"
    }
   ],
   "source": [
    "dir(quality_report)[10:]"
   ]
  },
  {
   "cell_type": "code",
   "execution_count": 61,
   "metadata": {},
   "outputs": [
    {
     "name": "stderr",
     "output_type": "stream",
     "text": [
      "c:\\Users\\kdgh685\\OneDrive - AZCollaboration\\Escritorio\\Jose\\TabularDataGAN\\venv\\lib\\site-packages\\sdmetrics\\reports\\utils.py:660: UserWarning: Unexpected values (\"dsullivan@example.net\", \"steven59@example.org\", \"brandon15@example.net\", \"humphreyjennifer@example.net\", \"joshuabrown@example.net\" + more) in column \"guest_email\"\n",
      "  warnings.warn(warning_format.format(values=values, column=column))\n",
      "c:\\Users\\kdgh685\\OneDrive - AZCollaboration\\Escritorio\\Jose\\TabularDataGAN\\venv\\lib\\site-packages\\sdmetrics\\reports\\utils.py:660: UserWarning: Unexpected values (\"26 Mar 2020\", \"30 Mar 2020\", \"13 Jan 2020\", \"24 Oct 2020\", \"21 Feb 2020\" + more) in column \"checkin_date\"\n",
      "  warnings.warn(warning_format.format(values=values, column=column))\n",
      "c:\\Users\\kdgh685\\OneDrive - AZCollaboration\\Escritorio\\Jose\\TabularDataGAN\\venv\\lib\\site-packages\\sdmetrics\\reports\\utils.py:660: UserWarning: Unexpected values (\"21 Aug 2020\", \"20 May 2020\", \"nan\", \"10 Aug 2020\", \"15 Feb 2020\" + more) in column \"checkout_date\"\n",
      "  warnings.warn(warning_format.format(values=values, column=column))\n",
      "c:\\Users\\kdgh685\\OneDrive - AZCollaboration\\Escritorio\\Jose\\TabularDataGAN\\venv\\lib\\site-packages\\sdmetrics\\reports\\utils.py:660: UserWarning: Unexpected values (\"90469 Karla Knolls Apt. 781\n",
      "Susanberg, NC 28401\", \"1080 Ashley Creek Apt. 622\n",
      "West Amy, NM 25058\", \"99923 Anderson Trace Suite 861\n",
      "North Haley, TX 76565\", \"9301 John Parkways\n",
      "Thomasland, OH 61350\", \"126 George Tunnel\n",
      "Duranstad, MS 95176\" + more) in column \"billing_address\"\n",
      "  warnings.warn(warning_format.format(values=values, column=column))\n",
      "Creating report: 100%|██████████| 4/4 [00:01<00:00,  2.05it/s]"
     ]
    },
    {
     "name": "stdout",
     "output_type": "stream",
     "text": [
      "\n",
      "DiagnosticResults:\n",
      "\n",
      "SUCCESS:\n",
      "✓ The synthetic data covers over 90% of the numerical ranges present in the real data\n",
      "✓ Over 90% of the synthetic rows are not copies of the real data\n",
      "✓ The synthetic data follows over 90% of the min/max boundaries set by the real data\n",
      "\n",
      "WARNING:\n",
      "! The synthetic data is missing more than 10% of the categories present in the real data\n"
     ]
    },
    {
     "name": "stderr",
     "output_type": "stream",
     "text": [
      "\n"
     ]
    }
   ],
   "source": [
    "quality_report = run_diagnostic(\n",
    "    real_data,\n",
    "    synthetic_data,\n",
    "    make_meta\n",
    ")"
   ]
  },
  {
   "cell_type": "code",
   "execution_count": 26,
   "metadata": {},
   "outputs": [
    {
     "ename": "AttributeError",
     "evalue": "type object 'RangeCoverage' has no attribute 'value'",
     "output_type": "error",
     "traceback": [
      "\u001b[1;31m---------------------------------------------------------------------------\u001b[0m",
      "\u001b[1;31mAttributeError\u001b[0m                            Traceback (most recent call last)",
      "Cell \u001b[1;32mIn[26], line 1\u001b[0m\n\u001b[1;32m----> 1\u001b[0m \u001b[43mquality_report\u001b[49m\u001b[38;5;241;43m.\u001b[39;49m\u001b[43mMETRICS\u001b[49m\u001b[43m[\u001b[49m\u001b[38;5;124;43m'\u001b[39;49m\u001b[38;5;124;43mCoverage\u001b[39;49m\u001b[38;5;124;43m'\u001b[39;49m\u001b[43m]\u001b[49m\u001b[43m[\u001b[49m\u001b[38;5;241;43m0\u001b[39;49m\u001b[43m]\u001b[49m\u001b[38;5;241;43m.\u001b[39;49m\u001b[43mvalue\u001b[49m\n",
      "File \u001b[1;32mc:\\Users\\kdgh685\\OneDrive - AZCollaboration\\Escritorio\\Jose\\TabularDataGAN\\venv\\lib\\site-packages\\sdmetrics\\utils.py:23\u001b[0m, in \u001b[0;36mnested_attrs_meta.<locals>.Metaclass.__getattr__\u001b[1;34m(cls, attr)\u001b[0m\n\u001b[0;32m     20\u001b[0m \u001b[38;5;28;01mif\u001b[39;00m \u001b[38;5;28mhasattr\u001b[39m(nested_obj, attr):\n\u001b[0;32m     21\u001b[0m     \u001b[38;5;28;01mreturn\u001b[39;00m \u001b[38;5;28mgetattr\u001b[39m(nested_obj, attr)\n\u001b[1;32m---> 23\u001b[0m \u001b[38;5;28;01mraise\u001b[39;00m \u001b[38;5;167;01mAttributeError\u001b[39;00m(\u001b[38;5;124mf\u001b[39m\u001b[38;5;124m\"\u001b[39m\u001b[38;5;124mtype object \u001b[39m\u001b[38;5;124m'\u001b[39m\u001b[38;5;132;01m{\u001b[39;00m\u001b[38;5;28mcls\u001b[39m\u001b[38;5;241m.\u001b[39m\u001b[38;5;18m__name__\u001b[39m\u001b[38;5;132;01m}\u001b[39;00m\u001b[38;5;124m'\u001b[39m\u001b[38;5;124m has no attribute \u001b[39m\u001b[38;5;124m'\u001b[39m\u001b[38;5;132;01m{\u001b[39;00mattr\u001b[38;5;132;01m}\u001b[39;00m\u001b[38;5;124m'\u001b[39m\u001b[38;5;124m\"\u001b[39m)\n",
      "\u001b[1;31mAttributeError\u001b[0m: type object 'RangeCoverage' has no attribute 'value'"
     ]
    }
   ],
   "source": [
    "quality_report.METRICS['Coverage'][0].value"
   ]
  },
  {
   "cell_type": "code",
   "execution_count": 21,
   "metadata": {},
   "outputs": [
    {
     "data": {
      "text/plain": [
       "['METRICS',\n",
       " '_METRIC_ARGS',\n",
       " '__class__',\n",
       " '__delattr__',\n",
       " '__dict__',\n",
       " '__dir__',\n",
       " '__doc__',\n",
       " '__eq__',\n",
       " '__format__',\n",
       " '__ge__',\n",
       " '__getattribute__',\n",
       " '__gt__',\n",
       " '__hash__',\n",
       " '__init__',\n",
       " '__init_subclass__',\n",
       " '__le__',\n",
       " '__lt__',\n",
       " '__module__',\n",
       " '__ne__',\n",
       " '__new__',\n",
       " '__reduce__',\n",
       " '__reduce_ex__',\n",
       " '__repr__',\n",
       " '__setattr__',\n",
       " '__sizeof__',\n",
       " '__str__',\n",
       " '__subclasshook__',\n",
       " '__weakref__',\n",
       " '_metric_args',\n",
       " '_metric_averages',\n",
       " '_metric_results',\n",
       " '_print_results',\n",
       " '_property_scores',\n",
       " '_results',\n",
       " 'generate',\n",
       " 'get_details',\n",
       " 'get_properties',\n",
       " 'get_results',\n",
       " 'get_visualization',\n",
       " 'load',\n",
       " 'save']"
      ]
     },
     "execution_count": 21,
     "metadata": {},
     "output_type": "execute_result"
    }
   ],
   "source": [
    "dir(quality_report)"
   ]
  },
  {
   "cell_type": "code",
   "execution_count": 4,
   "metadata": {},
   "outputs": [],
   "source": [
    "from sdmetrics.single_column import BoundaryAdherence"
   ]
  },
  {
   "cell_type": "code",
   "execution_count": 68,
   "metadata": {},
   "outputs": [
    {
     "data": {
      "text/html": [
       "<div>\n",
       "<style scoped>\n",
       "    .dataframe tbody tr th:only-of-type {\n",
       "        vertical-align: middle;\n",
       "    }\n",
       "\n",
       "    .dataframe tbody tr th {\n",
       "        vertical-align: top;\n",
       "    }\n",
       "\n",
       "    .dataframe thead th {\n",
       "        text-align: right;\n",
       "    }\n",
       "</style>\n",
       "<table border=\"1\" class=\"dataframe\">\n",
       "  <thead>\n",
       "    <tr style=\"text-align: right;\">\n",
       "      <th></th>\n",
       "      <th>guest_email</th>\n",
       "      <th>has_rewards</th>\n",
       "      <th>room_type</th>\n",
       "      <th>amenities_fee</th>\n",
       "      <th>checkin_date</th>\n",
       "      <th>checkout_date</th>\n",
       "      <th>room_rate</th>\n",
       "      <th>billing_address</th>\n",
       "      <th>credit_card_number</th>\n",
       "    </tr>\n",
       "  </thead>\n",
       "  <tbody>\n",
       "    <tr>\n",
       "      <th>0</th>\n",
       "      <td>dsullivan@example.net</td>\n",
       "      <td>True</td>\n",
       "      <td>BASIC</td>\n",
       "      <td>2.10</td>\n",
       "      <td>26 Mar 2020</td>\n",
       "      <td>12 Apr 2020</td>\n",
       "      <td>122.83</td>\n",
       "      <td>90469 Karla Knolls Apt. 781\\nSusanberg, NC 28401</td>\n",
       "      <td>5161033759518983</td>\n",
       "    </tr>\n",
       "    <tr>\n",
       "      <th>1</th>\n",
       "      <td>steven59@example.org</td>\n",
       "      <td>False</td>\n",
       "      <td>DELUXE</td>\n",
       "      <td>NaN</td>\n",
       "      <td>03 Jul 2020</td>\n",
       "      <td>15 Sep 2020</td>\n",
       "      <td>175.30</td>\n",
       "      <td>1080 Ashley Creek Apt. 622\\nWest Amy, NM 25058</td>\n",
       "      <td>4133047413145475690</td>\n",
       "    </tr>\n",
       "    <tr>\n",
       "      <th>2</th>\n",
       "      <td>brandon15@example.net</td>\n",
       "      <td>False</td>\n",
       "      <td>DELUXE</td>\n",
       "      <td>22.38</td>\n",
       "      <td>30 Mar 2020</td>\n",
       "      <td>17 Mar 2020</td>\n",
       "      <td>151.45</td>\n",
       "      <td>99923 Anderson Trace Suite 861\\nNorth Haley, T...</td>\n",
       "      <td>4977328103788</td>\n",
       "    </tr>\n",
       "    <tr>\n",
       "      <th>3</th>\n",
       "      <td>humphreyjennifer@example.net</td>\n",
       "      <td>False</td>\n",
       "      <td>BASIC</td>\n",
       "      <td>8.44</td>\n",
       "      <td>05 May 2020</td>\n",
       "      <td>22 May 2020</td>\n",
       "      <td>169.82</td>\n",
       "      <td>9301 John Parkways\\nThomasland, OH 61350</td>\n",
       "      <td>3524946844839485</td>\n",
       "    </tr>\n",
       "    <tr>\n",
       "      <th>4</th>\n",
       "      <td>joshuabrown@example.net</td>\n",
       "      <td>False</td>\n",
       "      <td>SUITE</td>\n",
       "      <td>8.21</td>\n",
       "      <td>13 Jan 2020</td>\n",
       "      <td>10 Jan 2020</td>\n",
       "      <td>189.85</td>\n",
       "      <td>126 George Tunnel\\nDuranstad, MS 95176</td>\n",
       "      <td>4446905799576890978</td>\n",
       "    </tr>\n",
       "    <tr>\n",
       "      <th>...</th>\n",
       "      <td>...</td>\n",
       "      <td>...</td>\n",
       "      <td>...</td>\n",
       "      <td>...</td>\n",
       "      <td>...</td>\n",
       "      <td>...</td>\n",
       "      <td>...</td>\n",
       "      <td>...</td>\n",
       "      <td>...</td>\n",
       "    </tr>\n",
       "    <tr>\n",
       "      <th>495</th>\n",
       "      <td>donnaodom@example.net</td>\n",
       "      <td>False</td>\n",
       "      <td>DELUXE</td>\n",
       "      <td>8.41</td>\n",
       "      <td>16 Jan 2020</td>\n",
       "      <td>16 Jan 2020</td>\n",
       "      <td>328.36</td>\n",
       "      <td>327 Jones Loaf\\nJohnchester, GA 22128</td>\n",
       "      <td>180069262819334</td>\n",
       "    </tr>\n",
       "    <tr>\n",
       "      <th>496</th>\n",
       "      <td>tammycarey@example.net</td>\n",
       "      <td>True</td>\n",
       "      <td>DELUXE</td>\n",
       "      <td>5.33</td>\n",
       "      <td>19 Apr 2020</td>\n",
       "      <td>09 Jun 2020</td>\n",
       "      <td>248.61</td>\n",
       "      <td>60371 Ruiz Highway\\nSmithberg, DE 13319</td>\n",
       "      <td>4716059563401606</td>\n",
       "    </tr>\n",
       "    <tr>\n",
       "      <th>497</th>\n",
       "      <td>gwebb@example.org</td>\n",
       "      <td>True</td>\n",
       "      <td>BASIC</td>\n",
       "      <td>0.15</td>\n",
       "      <td>19 Mar 2020</td>\n",
       "      <td>07 Apr 2020</td>\n",
       "      <td>151.73</td>\n",
       "      <td>48515 Martinez Bridge Suite 406\\nPort Regina, ...</td>\n",
       "      <td>3564840847844629</td>\n",
       "    </tr>\n",
       "    <tr>\n",
       "      <th>498</th>\n",
       "      <td>carlnovak@example.com</td>\n",
       "      <td>False</td>\n",
       "      <td>BASIC</td>\n",
       "      <td>37.09</td>\n",
       "      <td>28 Aug 2020</td>\n",
       "      <td>19 Jun 2020</td>\n",
       "      <td>376.40</td>\n",
       "      <td>7453 Harvey Dale\\nKevinborough, NY 12500</td>\n",
       "      <td>4707209056757331019</td>\n",
       "    </tr>\n",
       "    <tr>\n",
       "      <th>499</th>\n",
       "      <td>lwilliams@example.org</td>\n",
       "      <td>False</td>\n",
       "      <td>DELUXE</td>\n",
       "      <td>0.24</td>\n",
       "      <td>19 Sep 2020</td>\n",
       "      <td>NaN</td>\n",
       "      <td>232.18</td>\n",
       "      <td>1594 Christopher Squares\\nChristianton, DC 08129</td>\n",
       "      <td>213123330164875</td>\n",
       "    </tr>\n",
       "  </tbody>\n",
       "</table>\n",
       "<p>500 rows × 9 columns</p>\n",
       "</div>"
      ],
      "text/plain": [
       "                      guest_email  has_rewards room_type  amenities_fee  \\\n",
       "0           dsullivan@example.net         True     BASIC           2.10   \n",
       "1            steven59@example.org        False    DELUXE            NaN   \n",
       "2           brandon15@example.net        False    DELUXE          22.38   \n",
       "3    humphreyjennifer@example.net        False     BASIC           8.44   \n",
       "4         joshuabrown@example.net        False     SUITE           8.21   \n",
       "..                            ...          ...       ...            ...   \n",
       "495         donnaodom@example.net        False    DELUXE           8.41   \n",
       "496        tammycarey@example.net         True    DELUXE           5.33   \n",
       "497             gwebb@example.org         True     BASIC           0.15   \n",
       "498         carlnovak@example.com        False     BASIC          37.09   \n",
       "499         lwilliams@example.org        False    DELUXE           0.24   \n",
       "\n",
       "    checkin_date checkout_date  room_rate  \\\n",
       "0    26 Mar 2020   12 Apr 2020     122.83   \n",
       "1    03 Jul 2020   15 Sep 2020     175.30   \n",
       "2    30 Mar 2020   17 Mar 2020     151.45   \n",
       "3    05 May 2020   22 May 2020     169.82   \n",
       "4    13 Jan 2020   10 Jan 2020     189.85   \n",
       "..           ...           ...        ...   \n",
       "495  16 Jan 2020   16 Jan 2020     328.36   \n",
       "496  19 Apr 2020   09 Jun 2020     248.61   \n",
       "497  19 Mar 2020   07 Apr 2020     151.73   \n",
       "498  28 Aug 2020   19 Jun 2020     376.40   \n",
       "499  19 Sep 2020           NaN     232.18   \n",
       "\n",
       "                                       billing_address   credit_card_number  \n",
       "0     90469 Karla Knolls Apt. 781\\nSusanberg, NC 28401     5161033759518983  \n",
       "1       1080 Ashley Creek Apt. 622\\nWest Amy, NM 25058  4133047413145475690  \n",
       "2    99923 Anderson Trace Suite 861\\nNorth Haley, T...        4977328103788  \n",
       "3             9301 John Parkways\\nThomasland, OH 61350     3524946844839485  \n",
       "4               126 George Tunnel\\nDuranstad, MS 95176  4446905799576890978  \n",
       "..                                                 ...                  ...  \n",
       "495              327 Jones Loaf\\nJohnchester, GA 22128      180069262819334  \n",
       "496            60371 Ruiz Highway\\nSmithberg, DE 13319     4716059563401606  \n",
       "497  48515 Martinez Bridge Suite 406\\nPort Regina, ...     3564840847844629  \n",
       "498           7453 Harvey Dale\\nKevinborough, NY 12500  4707209056757331019  \n",
       "499   1594 Christopher Squares\\nChristianton, DC 08129      213123330164875  \n",
       "\n",
       "[500 rows x 9 columns]"
      ]
     },
     "execution_count": 68,
     "metadata": {},
     "output_type": "execute_result"
    }
   ],
   "source": [
    "synthetic_data"
   ]
  },
  {
   "cell_type": "code",
   "execution_count": 66,
   "metadata": {},
   "outputs": [
    {
     "data": {
      "text/plain": [
       "False"
      ]
     },
     "execution_count": 66,
     "metadata": {},
     "output_type": "execute_result"
    }
   ],
   "source": [
    "\"misty33@smith.biz\" in real_data[\"guest_email\"]"
   ]
  },
  {
   "cell_type": "code",
   "execution_count": 6,
   "metadata": {},
   "outputs": [
    {
     "data": {
      "text/html": [
       "<div>\n",
       "<style scoped>\n",
       "    .dataframe tbody tr th:only-of-type {\n",
       "        vertical-align: middle;\n",
       "    }\n",
       "\n",
       "    .dataframe tbody tr th {\n",
       "        vertical-align: top;\n",
       "    }\n",
       "\n",
       "    .dataframe thead th {\n",
       "        text-align: right;\n",
       "    }\n",
       "</style>\n",
       "<table border=\"1\" class=\"dataframe\">\n",
       "  <thead>\n",
       "    <tr style=\"text-align: right;\">\n",
       "      <th></th>\n",
       "      <th>guest_email</th>\n",
       "      <th>has_rewards</th>\n",
       "      <th>room_type</th>\n",
       "      <th>amenities_fee</th>\n",
       "      <th>checkin_date</th>\n",
       "      <th>checkout_date</th>\n",
       "      <th>room_rate</th>\n",
       "      <th>billing_address</th>\n",
       "      <th>credit_card_number</th>\n",
       "    </tr>\n",
       "  </thead>\n",
       "  <tbody>\n",
       "    <tr>\n",
       "      <th>0</th>\n",
       "      <td>michaelsanders@shaw.net</td>\n",
       "      <td>False</td>\n",
       "      <td>BASIC</td>\n",
       "      <td>37.89</td>\n",
       "      <td>27 Dec 2020</td>\n",
       "      <td>29 Dec 2020</td>\n",
       "      <td>131.23</td>\n",
       "      <td>49380 Rivers Street\\nSpencerville, AK 68265</td>\n",
       "      <td>4075084747483975747</td>\n",
       "    </tr>\n",
       "    <tr>\n",
       "      <th>1</th>\n",
       "      <td>randy49@brown.biz</td>\n",
       "      <td>False</td>\n",
       "      <td>BASIC</td>\n",
       "      <td>24.37</td>\n",
       "      <td>30 Dec 2020</td>\n",
       "      <td>02 Jan 2021</td>\n",
       "      <td>114.43</td>\n",
       "      <td>88394 Boyle Meadows\\nConleyberg, TN 22063</td>\n",
       "      <td>180072822063468</td>\n",
       "    </tr>\n",
       "    <tr>\n",
       "      <th>2</th>\n",
       "      <td>webermelissa@neal.com</td>\n",
       "      <td>True</td>\n",
       "      <td>DELUXE</td>\n",
       "      <td>0.00</td>\n",
       "      <td>17 Sep 2020</td>\n",
       "      <td>18 Sep 2020</td>\n",
       "      <td>368.33</td>\n",
       "      <td>0323 Lisa Station Apt. 208\\nPort Thomas, LA 82585</td>\n",
       "      <td>38983476971380</td>\n",
       "    </tr>\n",
       "    <tr>\n",
       "      <th>3</th>\n",
       "      <td>gsims@terry.com</td>\n",
       "      <td>False</td>\n",
       "      <td>BASIC</td>\n",
       "      <td>NaN</td>\n",
       "      <td>28 Dec 2020</td>\n",
       "      <td>31 Dec 2020</td>\n",
       "      <td>115.61</td>\n",
       "      <td>77 Massachusetts Ave\\nCambridge, MA 02139</td>\n",
       "      <td>4969551998845740</td>\n",
       "    </tr>\n",
       "    <tr>\n",
       "      <th>4</th>\n",
       "      <td>misty33@smith.biz</td>\n",
       "      <td>False</td>\n",
       "      <td>BASIC</td>\n",
       "      <td>16.45</td>\n",
       "      <td>05 Apr 2020</td>\n",
       "      <td>NaN</td>\n",
       "      <td>122.41</td>\n",
       "      <td>1234 Corporate Drive\\nBoston, MA 02116</td>\n",
       "      <td>3558512986488983</td>\n",
       "    </tr>\n",
       "    <tr>\n",
       "      <th>...</th>\n",
       "      <td>...</td>\n",
       "      <td>...</td>\n",
       "      <td>...</td>\n",
       "      <td>...</td>\n",
       "      <td>...</td>\n",
       "      <td>...</td>\n",
       "      <td>...</td>\n",
       "      <td>...</td>\n",
       "      <td>...</td>\n",
       "    </tr>\n",
       "    <tr>\n",
       "      <th>495</th>\n",
       "      <td>laurabennett@jones-duncan.net</td>\n",
       "      <td>False</td>\n",
       "      <td>BASIC</td>\n",
       "      <td>8.71</td>\n",
       "      <td>04 Jan 2021</td>\n",
       "      <td>06 Jan 2021</td>\n",
       "      <td>103.25</td>\n",
       "      <td>5678 Office Road\\nSan Francisco, CA 94103</td>\n",
       "      <td>3505516387300030</td>\n",
       "    </tr>\n",
       "    <tr>\n",
       "      <th>496</th>\n",
       "      <td>johnny71@cook.info</td>\n",
       "      <td>False</td>\n",
       "      <td>BASIC</td>\n",
       "      <td>16.31</td>\n",
       "      <td>24 Aug 2020</td>\n",
       "      <td>26 Aug 2020</td>\n",
       "      <td>115.81</td>\n",
       "      <td>953 White Island\\nChristopherside, TN 91366</td>\n",
       "      <td>2224524502892552</td>\n",
       "    </tr>\n",
       "    <tr>\n",
       "      <th>497</th>\n",
       "      <td>ygarcia@ballard-lopez.net</td>\n",
       "      <td>False</td>\n",
       "      <td>BASIC</td>\n",
       "      <td>30.59</td>\n",
       "      <td>11 Nov 2020</td>\n",
       "      <td>13 Nov 2020</td>\n",
       "      <td>141.61</td>\n",
       "      <td>5678 Office Road\\nSan Francisco, CA 94103</td>\n",
       "      <td>180096250673548</td>\n",
       "    </tr>\n",
       "    <tr>\n",
       "      <th>498</th>\n",
       "      <td>thomasdale@hall.com</td>\n",
       "      <td>False</td>\n",
       "      <td>BASIC</td>\n",
       "      <td>1.93</td>\n",
       "      <td>16 Jul 2020</td>\n",
       "      <td>18 Jul 2020</td>\n",
       "      <td>136.92</td>\n",
       "      <td>5678 Office Road\\nSan Francisco, CA 94103</td>\n",
       "      <td>4488223821722</td>\n",
       "    </tr>\n",
       "    <tr>\n",
       "      <th>499</th>\n",
       "      <td>danieltaylor@harper.com</td>\n",
       "      <td>False</td>\n",
       "      <td>BASIC</td>\n",
       "      <td>3.84</td>\n",
       "      <td>22 Mar 2020</td>\n",
       "      <td>25 Mar 2020</td>\n",
       "      <td>143.52</td>\n",
       "      <td>034 Tran Oval\\nHowardshire, VT 40933</td>\n",
       "      <td>213165812201188</td>\n",
       "    </tr>\n",
       "  </tbody>\n",
       "</table>\n",
       "<p>500 rows × 9 columns</p>\n",
       "</div>"
      ],
      "text/plain": [
       "                       guest_email  has_rewards room_type  amenities_fee  \\\n",
       "0          michaelsanders@shaw.net        False     BASIC          37.89   \n",
       "1                randy49@brown.biz        False     BASIC          24.37   \n",
       "2            webermelissa@neal.com         True    DELUXE           0.00   \n",
       "3                  gsims@terry.com        False     BASIC            NaN   \n",
       "4                misty33@smith.biz        False     BASIC          16.45   \n",
       "..                             ...          ...       ...            ...   \n",
       "495  laurabennett@jones-duncan.net        False     BASIC           8.71   \n",
       "496             johnny71@cook.info        False     BASIC          16.31   \n",
       "497      ygarcia@ballard-lopez.net        False     BASIC          30.59   \n",
       "498            thomasdale@hall.com        False     BASIC           1.93   \n",
       "499        danieltaylor@harper.com        False     BASIC           3.84   \n",
       "\n",
       "    checkin_date checkout_date  room_rate  \\\n",
       "0    27 Dec 2020   29 Dec 2020     131.23   \n",
       "1    30 Dec 2020   02 Jan 2021     114.43   \n",
       "2    17 Sep 2020   18 Sep 2020     368.33   \n",
       "3    28 Dec 2020   31 Dec 2020     115.61   \n",
       "4    05 Apr 2020           NaN     122.41   \n",
       "..           ...           ...        ...   \n",
       "495  04 Jan 2021   06 Jan 2021     103.25   \n",
       "496  24 Aug 2020   26 Aug 2020     115.81   \n",
       "497  11 Nov 2020   13 Nov 2020     141.61   \n",
       "498  16 Jul 2020   18 Jul 2020     136.92   \n",
       "499  22 Mar 2020   25 Mar 2020     143.52   \n",
       "\n",
       "                                       billing_address   credit_card_number  \n",
       "0          49380 Rivers Street\\nSpencerville, AK 68265  4075084747483975747  \n",
       "1            88394 Boyle Meadows\\nConleyberg, TN 22063      180072822063468  \n",
       "2    0323 Lisa Station Apt. 208\\nPort Thomas, LA 82585       38983476971380  \n",
       "3            77 Massachusetts Ave\\nCambridge, MA 02139     4969551998845740  \n",
       "4               1234 Corporate Drive\\nBoston, MA 02116     3558512986488983  \n",
       "..                                                 ...                  ...  \n",
       "495          5678 Office Road\\nSan Francisco, CA 94103     3505516387300030  \n",
       "496        953 White Island\\nChristopherside, TN 91366     2224524502892552  \n",
       "497          5678 Office Road\\nSan Francisco, CA 94103      180096250673548  \n",
       "498          5678 Office Road\\nSan Francisco, CA 94103        4488223821722  \n",
       "499               034 Tran Oval\\nHowardshire, VT 40933      213165812201188  \n",
       "\n",
       "[500 rows x 9 columns]"
      ]
     },
     "execution_count": 6,
     "metadata": {},
     "output_type": "execute_result"
    }
   ],
   "source": [
    "real_data"
   ]
  },
  {
   "cell_type": "code",
   "execution_count": 11,
   "metadata": {},
   "outputs": [
    {
     "data": {
      "image/png": "[encoded data removed]",
      "text/plain": [
       "<Figure size 640x480 with 1 Axes>"
      ]
     },
     "metadata": {},
     "output_type": "display_data"
    }
   ],
   "source": [
    "BoundaryAdherence.compute(\n",
    "    real_data=real_data['room_rate'],\n",
    "    synthetic_data=synthetic_data['room_rate']\n",
    ")\n",
    "\n",
    "plt.hist(real_data['room_rate'], bins=31, alpha=0.6)\n",
    "plt.hist(synthetic_data['room_rate'], bins=31, alpha=0.6)\n",
    "\n",
    "plt.show()"
   ]
  },
  {
   "cell_type": "code",
   "execution_count": 44,
   "metadata": {},
   "outputs": [
    {
     "ename": "ImportError",
     "evalue": "cannot import name 'Metadata' from 'sdv.metadata' (c:\\Users\\kdgh685\\OneDrive - AZCollaboration\\Escritorio\\Jose\\TabularDataGAN\\venv\\lib\\site-packages\\sdv\\metadata\\__init__.py)",
     "output_type": "error",
     "traceback": [
      "\u001b[1;31m---------------------------------------------------------------------------\u001b[0m",
      "\u001b[1;31mImportError\u001b[0m                               Traceback (most recent call last)",
      "Cell \u001b[1;32mIn[44], line 1\u001b[0m\n\u001b[1;32m----> 1\u001b[0m \u001b[38;5;28;01mfrom\u001b[39;00m\u001b[38;5;250m \u001b[39m\u001b[38;5;21;01msdv\u001b[39;00m\u001b[38;5;21;01m.\u001b[39;00m\u001b[38;5;21;01mmetadata\u001b[39;00m\u001b[38;5;250m \u001b[39m\u001b[38;5;28;01mimport\u001b[39;00m Metadata\n",
      "\u001b[1;31mImportError\u001b[0m: cannot import name 'Metadata' from 'sdv.metadata' (c:\\Users\\kdgh685\\OneDrive - AZCollaboration\\Escritorio\\Jose\\TabularDataGAN\\venv\\lib\\site-packages\\sdv\\metadata\\__init__.py)"
     ]
    }
   ],
   "source": [
    "from sdv.metadata import Metadata"
   ]
  },
  {
   "cell_type": "code",
   "execution_count": 45,
   "metadata": {},
   "outputs": [],
   "source": [
    "import sdv.metadata as Metadata"
   ]
  },
  {
   "cell_type": "code",
   "execution_count": 49,
   "metadata": {},
   "outputs": [
    {
     "data": {
      "text/plain": [
       "['_validate_numerical',\n",
       " '_validate_pii',\n",
       " '_validate_sdtype',\n",
       " '_validate_sequence_index',\n",
       " '_validate_sequence_index_not_in_sequence_key',\n",
       " '_validate_unexpected_kwargs',\n",
       " 'add_alternate_keys',\n",
       " 'add_column',\n",
       " 'detect_from_csv',\n",
       " 'detect_from_dataframe',\n",
       " 'load_from_dict',\n",
       " 'load_from_json',\n",
       " 'save_to_json',\n",
       " 'set_primary_key',\n",
       " 'set_sequence_index',\n",
       " 'set_sequence_key',\n",
       " 'to_dict',\n",
       " 'update_column',\n",
       " 'upgrade_metadata',\n",
       " 'validate']"
      ]
     },
     "execution_count": 49,
     "metadata": {},
     "output_type": "execute_result"
    }
   ],
   "source": [
    "dir(Metadata.SingleTableMetadata)[-20:]"
   ]
  },
  {
   "cell_type": "code",
   "execution_count": 56,
   "metadata": {},
   "outputs": [],
   "source": [
    "make_meta = Metadata.SingleTableMetadata()"
   ]
  },
  {
   "cell_type": "code",
   "execution_count": 57,
   "metadata": {},
   "outputs": [],
   "source": [
    "make_meta.detect_from_dataframe(data=real_data)"
   ]
  },
  {
   "cell_type": "code",
   "execution_count": 58,
   "metadata": {},
   "outputs": [
    {
     "data": {
      "text/plain": [
       "{\n",
       "    \"columns\": {\n",
       "        \"guest_email\": {\n",
       "            \"sdtype\": \"categorical\"\n",
       "        },\n",
       "        \"has_rewards\": {\n",
       "            \"sdtype\": \"boolean\"\n",
       "        },\n",
       "        \"room_type\": {\n",
       "            \"sdtype\": \"categorical\"\n",
       "        },\n",
       "        \"amenities_fee\": {\n",
       "            \"sdtype\": \"numerical\"\n",
       "        },\n",
       "        \"checkin_date\": {\n",
       "            \"sdtype\": \"categorical\"\n",
       "        },\n",
       "        \"checkout_date\": {\n",
       "            \"sdtype\": \"categorical\"\n",
       "        },\n",
       "        \"room_rate\": {\n",
       "            \"sdtype\": \"numerical\"\n",
       "        },\n",
       "        \"billing_address\": {\n",
       "            \"sdtype\": \"categorical\"\n",
       "        },\n",
       "        \"credit_card_number\": {\n",
       "            \"sdtype\": \"numerical\"\n",
       "        }\n",
       "    },\n",
       "    \"METADATA_SPEC_VERSION\": \"SINGLE_TABLE_V1\"\n",
       "}"
      ]
     },
     "execution_count": 58,
     "metadata": {},
     "output_type": "execute_result"
    }
   ],
   "source": [
    "make_meta"
   ]
  },
  {
   "cell_type": "code",
   "execution_count": null,
   "metadata": {},
   "outputs": [],
   "source": []
  }
 ],
 "metadata": {
  "kernelspec": {
   "display_name": "venv",
   "language": "python",
   "name": "python3"
  },
  "language_info": {
   "codemirror_mode": {
    "name": "ipython",
    "version": 3
   },
   "file_extension": ".py",
   "mimetype": "text/x-python",
   "name": "python",
   "nbconvert_exporter": "python",
   "pygments_lexer": "ipython3",
   "version": "3.9.7"
  }
 },
 "nbformat": 4,
 "nbformat_minor": 2
}
