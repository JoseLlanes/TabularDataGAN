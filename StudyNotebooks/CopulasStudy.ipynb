{
 "cells": [
  {
   "cell_type": "code",
   "execution_count": 13,
   "id": "b3d66b76-05cf-4950-b7c2-39f029dcf140",
   "metadata": {},
   "outputs": [],
   "source": [
    "import pandas as pd\n",
    "import matplotlib.pyplot as plt\n",
    "\n",
    "from copulas.multivariate import GaussianMultivariate"
   ]
  },
  {
   "cell_type": "code",
   "execution_count": 4,
   "id": "52b90b81-9545-4ac8-8857-e52ea4f66d0e",
   "metadata": {},
   "outputs": [],
   "source": [
    "df = pd.read_csv(\"Data/Maternal Health Risk Data Set.csv\")\n",
    "numeric_cols = ['Age', 'SystolicBP', 'DiastolicBP', 'BS', 'BodyTemp', 'HeartRate']\n",
    "df = df[numeric_cols]"
   ]
  },
  {
   "cell_type": "code",
   "execution_count": 7,
   "id": "c67fe171-83a6-43b0-9af8-a5f81bcf8cf9",
   "metadata": {
    "scrolled": true
   },
   "outputs": [
    {
     "name": "stderr",
     "output_type": "stream",
     "text": [
      "C:\\Users\\kdgh685\\OneDrive - AZCollaboration\\Escritorio\\Jose\\gan\\venv\\lib\\site-packages\\scipy\\stats\\_continuous_distns.py:716: RuntimeWarning: invalid value encountered in sqrt\n",
      "  sk = 2*(b-a)*np.sqrt(a + b + 1) / (a + b + 2) / np.sqrt(a*b)\n",
      "C:\\Users\\kdgh685\\OneDrive - AZCollaboration\\Escritorio\\Jose\\gan\\venv\\lib\\site-packages\\scipy\\stats\\_continuous_distns.py:716: RuntimeWarning: invalid value encountered in sqrt\n",
      "  sk = 2*(b-a)*np.sqrt(a + b + 1) / (a + b + 2) / np.sqrt(a*b)\n",
      "C:\\Users\\kdgh685\\OneDrive - AZCollaboration\\Escritorio\\Jose\\gan\\venv\\lib\\site-packages\\scipy\\stats\\_continuous_distns.py:721: RuntimeWarning: The iteration is not making good progress, as measured by the \n",
      "  improvement from the last ten iterations.\n",
      "  a, b = optimize.fsolve(func, (1.0, 1.0))\n",
      "C:\\Users\\kdgh685\\OneDrive - AZCollaboration\\Escritorio\\Jose\\gan\\venv\\lib\\site-packages\\scipy\\stats\\_continuous_distns.py:716: RuntimeWarning: invalid value encountered in sqrt\n",
      "  sk = 2*(b-a)*np.sqrt(a + b + 1) / (a + b + 2) / np.sqrt(a*b)\n",
      "C:\\Users\\kdgh685\\OneDrive - AZCollaboration\\Escritorio\\Jose\\gan\\venv\\lib\\site-packages\\scipy\\stats\\_continuous_distns.py:721: RuntimeWarning: The iteration is not making good progress, as measured by the \n",
      "  improvement from the last ten iterations.\n",
      "  a, b = optimize.fsolve(func, (1.0, 1.0))\n"
     ]
    }
   ],
   "source": [
    "copula = GaussianMultivariate()\n",
    "copula.fit(df)\n",
    "\n",
    "synthetic_data = copula.sample(500)"
   ]
  },
  {
   "cell_type": "code",
   "execution_count": 8,
   "id": "d98c0745-acd6-4508-9405-a389abca13be",
   "metadata": {},
   "outputs": [
    {
     "data": {
      "text/html": [
       "<div>\n",
       "<style scoped>\n",
       "    .dataframe tbody tr th:only-of-type {\n",
       "        vertical-align: middle;\n",
       "    }\n",
       "\n",
       "    .dataframe tbody tr th {\n",
       "        vertical-align: top;\n",
       "    }\n",
       "\n",
       "    .dataframe thead th {\n",
       "        text-align: right;\n",
       "    }\n",
       "</style>\n",
       "<table border=\"1\" class=\"dataframe\">\n",
       "  <thead>\n",
       "    <tr style=\"text-align: right;\">\n",
       "      <th></th>\n",
       "      <th>Age</th>\n",
       "      <th>SystolicBP</th>\n",
       "      <th>DiastolicBP</th>\n",
       "      <th>BS</th>\n",
       "      <th>BodyTemp</th>\n",
       "      <th>HeartRate</th>\n",
       "    </tr>\n",
       "  </thead>\n",
       "  <tbody>\n",
       "    <tr>\n",
       "      <th>0</th>\n",
       "      <td>14.973133</td>\n",
       "      <td>95.412567</td>\n",
       "      <td>84.354506</td>\n",
       "      <td>7.733423</td>\n",
       "      <td>97.925461</td>\n",
       "      <td>68.772920</td>\n",
       "    </tr>\n",
       "    <tr>\n",
       "      <th>1</th>\n",
       "      <td>41.918982</td>\n",
       "      <td>121.956754</td>\n",
       "      <td>80.947477</td>\n",
       "      <td>7.341310</td>\n",
       "      <td>97.700913</td>\n",
       "      <td>64.891150</td>\n",
       "    </tr>\n",
       "    <tr>\n",
       "      <th>2</th>\n",
       "      <td>42.309668</td>\n",
       "      <td>139.164670</td>\n",
       "      <td>86.187952</td>\n",
       "      <td>12.433146</td>\n",
       "      <td>98.226163</td>\n",
       "      <td>76.844314</td>\n",
       "    </tr>\n",
       "    <tr>\n",
       "      <th>3</th>\n",
       "      <td>18.921590</td>\n",
       "      <td>120.669307</td>\n",
       "      <td>70.973196</td>\n",
       "      <td>7.738439</td>\n",
       "      <td>98.532198</td>\n",
       "      <td>91.385107</td>\n",
       "    </tr>\n",
       "    <tr>\n",
       "      <th>4</th>\n",
       "      <td>15.384493</td>\n",
       "      <td>121.490397</td>\n",
       "      <td>72.548832</td>\n",
       "      <td>6.752170</td>\n",
       "      <td>101.850637</td>\n",
       "      <td>67.389714</td>\n",
       "    </tr>\n",
       "    <tr>\n",
       "      <th>...</th>\n",
       "      <td>...</td>\n",
       "      <td>...</td>\n",
       "      <td>...</td>\n",
       "      <td>...</td>\n",
       "      <td>...</td>\n",
       "      <td>...</td>\n",
       "    </tr>\n",
       "    <tr>\n",
       "      <th>495</th>\n",
       "      <td>29.059244</td>\n",
       "      <td>122.546936</td>\n",
       "      <td>87.127209</td>\n",
       "      <td>6.755657</td>\n",
       "      <td>97.884613</td>\n",
       "      <td>63.062724</td>\n",
       "    </tr>\n",
       "    <tr>\n",
       "      <th>496</th>\n",
       "      <td>19.049937</td>\n",
       "      <td>143.838933</td>\n",
       "      <td>93.362098</td>\n",
       "      <td>8.381838</td>\n",
       "      <td>97.702136</td>\n",
       "      <td>88.879340</td>\n",
       "    </tr>\n",
       "    <tr>\n",
       "      <th>497</th>\n",
       "      <td>14.506230</td>\n",
       "      <td>102.406798</td>\n",
       "      <td>75.154592</td>\n",
       "      <td>17.952907</td>\n",
       "      <td>101.912677</td>\n",
       "      <td>70.029028</td>\n",
       "    </tr>\n",
       "    <tr>\n",
       "      <th>498</th>\n",
       "      <td>23.792599</td>\n",
       "      <td>111.756816</td>\n",
       "      <td>75.501245</td>\n",
       "      <td>7.039342</td>\n",
       "      <td>98.332674</td>\n",
       "      <td>77.076251</td>\n",
       "    </tr>\n",
       "    <tr>\n",
       "      <th>499</th>\n",
       "      <td>60.315950</td>\n",
       "      <td>141.565048</td>\n",
       "      <td>85.996867</td>\n",
       "      <td>7.416795</td>\n",
       "      <td>98.191593</td>\n",
       "      <td>90.083332</td>\n",
       "    </tr>\n",
       "  </tbody>\n",
       "</table>\n",
       "<p>500 rows × 6 columns</p>\n",
       "</div>"
      ],
      "text/plain": [
       "           Age  SystolicBP  DiastolicBP         BS    BodyTemp  HeartRate\n",
       "0    14.973133   95.412567    84.354506   7.733423   97.925461  68.772920\n",
       "1    41.918982  121.956754    80.947477   7.341310   97.700913  64.891150\n",
       "2    42.309668  139.164670    86.187952  12.433146   98.226163  76.844314\n",
       "3    18.921590  120.669307    70.973196   7.738439   98.532198  91.385107\n",
       "4    15.384493  121.490397    72.548832   6.752170  101.850637  67.389714\n",
       "..         ...         ...          ...        ...         ...        ...\n",
       "495  29.059244  122.546936    87.127209   6.755657   97.884613  63.062724\n",
       "496  19.049937  143.838933    93.362098   8.381838   97.702136  88.879340\n",
       "497  14.506230  102.406798    75.154592  17.952907  101.912677  70.029028\n",
       "498  23.792599  111.756816    75.501245   7.039342   98.332674  77.076251\n",
       "499  60.315950  141.565048    85.996867   7.416795   98.191593  90.083332\n",
       "\n",
       "[500 rows x 6 columns]"
      ]
     },
     "execution_count": 8,
     "metadata": {},
     "output_type": "execute_result"
    }
   ],
   "source": [
    "synthetic_data"
   ]
  },
  {
   "cell_type": "code",
   "execution_count": 9,
   "id": "c523b2b7-6b9f-4a50-b591-f52e41ce4837",
   "metadata": {},
   "outputs": [],
   "source": [
    "from sdv.metadata import Metadata\n",
    "from sdv.evaluation.single_table import evaluate_quality"
   ]
  },
  {
   "cell_type": "code",
   "execution_count": 10,
   "id": "c9fbbf31-5d14-43df-b27e-809993b3b66f",
   "metadata": {},
   "outputs": [],
   "source": [
    "metadata = Metadata.detect_from_dataframe(\n",
    "    data=df,\n",
    "    table_name='maternal_metadata'\n",
    ")"
   ]
  },
  {
   "cell_type": "code",
   "execution_count": 11,
   "id": "824f1258-2038-4ef4-9395-cb26978bd1c2",
   "metadata": {},
   "outputs": [
    {
     "name": "stdout",
     "output_type": "stream",
     "text": [
      "Generating report ...\n",
      "\n",
      "(1/2) Evaluating Column Shapes: |███████████████████████████████████████████████████████████████████| 6/6 [00:00<00:00, 278.44it/s]|\n",
      "Column Shapes Score: 81.54%\n",
      "\n",
      "(2/2) Evaluating Column Pair Trends: |████████████████████████████████████████████████████████████| 15/15 [00:00<00:00, 114.19it/s]|\n",
      "Column Pair Trends Score: 96.39%\n",
      "\n",
      "Overall Score (Average): 88.97%\n",
      "\n"
     ]
    }
   ],
   "source": [
    "quality_report = evaluate_quality(\n",
    "    df,\n",
    "    synthetic_data,\n",
    "    metadata\n",
    ")"
   ]
  },
  {
   "cell_type": "code",
   "execution_count": 15,
   "id": "4a7a6699-3aac-4c18-94be-9a17a238dccd",
   "metadata": {},
   "outputs": [
    {
     "data": {
      "image/png": "[encoded data removed]",
      "text/plain": [
       "<Figure size 640x480 with 1 Axes>"
      ]
     },
     "metadata": {},
     "output_type": "display_data"
    },
    {
     "data": {
      "image/png": "[encoded data removed]",
      "text/plain": [
       "<Figure size 640x480 with 1 Axes>"
      ]
     },
     "metadata": {},
     "output_type": "display_data"
    },
    {
     "data": {
      "image/png": "[encoded data removed]",
      "text/plain": [
       "<Figure size 640x480 with 1 Axes>"
      ]
     },
     "metadata": {},
     "output_type": "display_data"
    }
   ],
   "source": [
    "plt.hist(df[\"Age\"].values, bins=31, alpha=0.6)\n",
    "plt.hist(synthetic_data[\"Age\"].values, bins=31, alpha=0.6)\n",
    "\n",
    "plt.show()\n",
    "\n",
    "plt.hist(df[\"SystolicBP\"].values, bins=31, alpha=0.6)\n",
    "plt.hist(synthetic_data[\"SystolicBP\"].values, bins=31, alpha=0.6)\n",
    "\n",
    "plt.show()\n",
    "\n",
    "plt.hist(df[\"HeartRate\"].values, bins=31, alpha=0.6)\n",
    "plt.hist(synthetic_data[\"HeartRate\"].values, bins=31, alpha=0.6)\n",
    "\n",
    "plt.show()"
   ]
  },
  {
   "cell_type": "code",
   "execution_count": null,
   "id": "4ffc664e-5450-4938-9b38-f390b012f32f",
   "metadata": {},
   "outputs": [],
   "source": []
  }
 ],
 "metadata": {
  "kernelspec": {
   "display_name": "Python 3 (ipykernel)",
   "language": "python",
   "name": "python3"
  },
  "language_info": {
   "codemirror_mode": {
    "name": "ipython",
    "version": 3
   },
   "file_extension": ".py",
   "mimetype": "text/x-python",
   "name": "python",
   "nbconvert_exporter": "python",
   "pygments_lexer": "ipython3",
   "version": "3.9.7"
  }
 },
 "nbformat": 4,
 "nbformat_minor": 5
}
