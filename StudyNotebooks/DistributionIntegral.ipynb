{
 "cells": [
  {
   "cell_type": "code",
   "execution_count": 1,
   "metadata": {},
   "outputs": [],
   "source": [
    "import numpy as np\n",
    "import scipy.stats as stats\n",
    "import scipy.integrate as integrate\n",
    "import matplotlib.pyplot as plt\n",
    "\n",
    "import warnings\n",
    "warnings.simplefilter(\"ignore\", category=UserWarning)"
   ]
  },
  {
   "cell_type": "code",
   "execution_count": 2,
   "metadata": {},
   "outputs": [
    {
     "data": {
      "image/png": "[encoded data removed]",
      "text/plain": [
       "<Figure size 640x480 with 1 Axes>"
      ]
     },
     "metadata": {},
     "output_type": "display_data"
    },
    {
     "name": "stdout",
     "output_type": "stream",
     "text": [
      "Difference between distributions (integral of absolute difference): 0.6961966099086517\n"
     ]
    }
   ],
   "source": [
    "# Example feature data (replace with your actual dataset features)\n",
    "feature1 = np.random.normal(0, 1, 1000)  # Simulated feature 1\n",
    "feature2 = np.random.normal(1, 1, 1000)  # Simulated feature 2\n",
    "\n",
    "plt.hist(feature1, alpha=0.6)\n",
    "plt.hist(feature2, alpha=0.6)\n",
    "\n",
    "plt.show()\n",
    "\n",
    "# Estimate PDFs using Kernel Density Estimation (KDE)\n",
    "kde1 = stats.gaussian_kde(feature1)\n",
    "kde2 = stats.gaussian_kde(feature2)\n",
    "\n",
    "# Define the function to integrate (absolute difference of estimated PDFs)\n",
    "def pdf_diff(x):\n",
    "    return np.abs(kde1(x) - kde2(x))\n",
    "\n",
    "# Define the integration range (from min to max of both datasets)\n",
    "x_min = min(feature1.min(), feature2.min())\n",
    "x_max = max(feature1.max(), feature2.max())\n",
    "\n",
    "# Compute the integral\n",
    "difference, _ = integrate.quad(pdf_diff, x_min, x_max)\n",
    "\n",
    "print(f\"Difference between distributions (integral of absolute difference): {difference}\")"
   ]
  },
  {
   "cell_type": "code",
   "execution_count": 3,
   "metadata": {},
   "outputs": [
    {
     "data": {
      "text/plain": [
       "array([[0.0634261]])"
      ]
     },
     "execution_count": 3,
     "metadata": {},
     "output_type": "execute_result"
    }
   ],
   "source": [
    "kde1.covariance"
   ]
  },
  {
   "cell_type": "code",
   "execution_count": 4,
   "metadata": {},
   "outputs": [
    {
     "name": "stdout",
     "output_type": "stream",
     "text": [
      "tensor(1.2254)\n"
     ]
    }
   ],
   "source": [
    "import numpy as np\n",
    "import torch\n",
    "import torch.nn.functional as F\n",
    "\n",
    "def matrix_kde_loss(features1, features2, bandwidth=0.1, num_points=100):\n",
    "    \"\"\"\n",
    "    Computes the KDE loss for each feature dimension in a batched manner.\n",
    "    \n",
    "    Args:\n",
    "        features1 (Tensor): First feature tensor of shape (N, D).\n",
    "        features2 (Tensor): Second feature tensor of shape (M, D).\n",
    "        bandwidth (float): Bandwidth for the Gaussian kernel.\n",
    "        num_points (int): Number of points for numerical integration.\n",
    "    \n",
    "    Returns:\n",
    "        Tensor: A tensor of shape (D,) representing KDE loss for each feature.\n",
    "    \"\"\"\n",
    "    x_min = torch.min(features1.min(dim=0).values, features2.min(dim=0).values)\n",
    "    x_max = torch.max(features1.max(dim=0).values, features2.max(dim=0).values)\n",
    "\n",
    "    # Generate evaluation points for each feature dimension\n",
    "    x_eval = torch.linspace(0, 1, num_points, device=features1.device).unsqueeze(1)  # (num_points, 1)\n",
    "    x_eval = x_min + x_eval * (x_max - x_min)  # Rescale to feature-wise min/max -> (num_points, D)\n",
    "\n",
    "    # Compute pairwise differences for KDE\n",
    "    def kde(x, samples):\n",
    "        diffs = x.unsqueeze(1) - samples.unsqueeze(0)  # (num_points, N, D)\n",
    "        weights = torch.exp(-0.5 * (diffs / bandwidth) ** 2) / (bandwidth * (2 * torch.pi) ** 0.5)\n",
    "        return weights.mean(dim=1)  # (num_points, D)\n",
    "\n",
    "    kde1 = kde(x_eval, features1)\n",
    "    kde2 = kde(x_eval, features2)\n",
    "\n",
    "    # Compute absolute difference and approximate integral using trapezoidal rule\n",
    "    pdf_diff = torch.abs(kde1 - kde2)\n",
    "    dx = (x_max - x_min) / num_points\n",
    "    integral = torch.sum(pdf_diff * dx, dim=0)  # (D,)\n",
    "\n",
    "    return integral.sum()\n",
    "\n",
    "data1 = torch.randn(1000, 10)\n",
    "data2 = torch.randn(1000, 10)\n",
    "\n",
    "# Compute batch KDE loss for all features and sum\n",
    "total_loss = matrix_kde_loss(data1, data2)\n",
    "print(total_loss)\n"
   ]
  },
  {
   "cell_type": "code",
   "execution_count": null,
   "metadata": {},
   "outputs": [],
   "source": []
  }
 ],
 "metadata": {
  "kernelspec": {
   "display_name": "venv",
   "language": "python",
   "name": "python3"
  },
  "language_info": {
   "codemirror_mode": {
    "name": "ipython",
    "version": 3
   },
   "file_extension": ".py",
   "mimetype": "text/x-python",
   "name": "python",
   "nbconvert_exporter": "python",
   "pygments_lexer": "ipython3",
   "version": "3.9.7"
  }
 },
 "nbformat": 4,
 "nbformat_minor": 2
}
