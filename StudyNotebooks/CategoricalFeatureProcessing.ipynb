{
 "cells": [
  {
   "cell_type": "code",
   "execution_count": 1,
   "metadata": {},
   "outputs": [],
   "source": [
    "import os\n",
    "\n",
    "os.chdir(\"..\")\n",
    "# print(os.getcwd()) \n",
    "\n",
    "import warnings\n",
    "warnings.simplefilter(\"ignore\", category=UserWarning)\n",
    "\n",
    "import numpy as np\n",
    "import pandas as pd\n",
    "import matplotlib.pyplot as plt"
   ]
  },
  {
   "cell_type": "code",
   "execution_count": 2,
   "metadata": {},
   "outputs": [],
   "source": [
    "df = pd.read_csv(\"Data/Maternal Health Risk Data Set.csv\")\n",
    "df = df.dropna()\n",
    "numeric_cols = ['Age', 'SystolicBP', 'DiastolicBP', 'BS', 'BodyTemp', 'HeartRate']\n",
    "df = df[numeric_cols]"
   ]
  },
  {
   "cell_type": "code",
   "execution_count": 3,
   "metadata": {},
   "outputs": [
    {
     "data": {
      "text/plain": [
       "array([ 98. , 100. , 102. , 101. , 103. ,  98.4,  99. ,  98.6])"
      ]
     },
     "execution_count": 3,
     "metadata": {},
     "output_type": "execute_result"
    }
   ],
   "source": [
    "df[\"BodyTemp\"].unique()"
   ]
  },
  {
   "cell_type": "code",
   "execution_count": 4,
   "metadata": {},
   "outputs": [],
   "source": [
    "from collections import Counter\n",
    "\n",
    "def create_category_intervals(data):\n",
    "    # Count frequency of each unique category\n",
    "    freq_counts = Counter(data)\n",
    "    total = len(data)\n",
    "\n",
    "    freq_ratios = {key: count / total for key, count in sorted(freq_counts.items())}\n",
    "\n",
    "    intervals = {}\n",
    "    start = 0.0\n",
    "    for category, ratio in freq_ratios.items():\n",
    "        end = start + ratio\n",
    "        intervals[category] = np.array([start, end])\n",
    "        start = end  # Update start for next category\n",
    "\n",
    "    return intervals\n",
    "\n",
    "def truncated_normal_distribution(a, b):\n",
    "    mu = (a + b) / 2\n",
    "    sigma = (b - a) / 6\n",
    "\n",
    "    while True:\n",
    "        sample = np.random.normal(mu, sigma)\n",
    "        if a <= sample <= b:\n",
    "            return sample\n",
    "        \n",
    "def generate_number(category, interval_category):\n",
    "    return truncated_normal_distribution(*interval_category[category])\n",
    "\n",
    "def inverse_categorical_interval(number, interval_category):\n",
    "    for k, v in interval_category.items():\n",
    "        if v[0] <= number <= v[1]:\n",
    "            return k"
   ]
  },
  {
   "cell_type": "code",
   "execution_count": 5,
   "metadata": {},
   "outputs": [],
   "source": [
    "category_inter = create_category_intervals(df[\"BodyTemp\"].values)\n",
    "\n",
    "df[\"BodyTemp_numeric\"] = df[\"BodyTemp\"].apply(lambda x: generate_number(x, category_inter))"
   ]
  },
  {
   "cell_type": "code",
   "execution_count": 6,
   "metadata": {},
   "outputs": [
    {
     "data": {
      "image/png": "[encoded data removed]",
      "text/plain": [
       "<Figure size 640x480 with 1 Axes>"
      ]
     },
     "metadata": {},
     "output_type": "display_data"
    }
   ],
   "source": [
    "plt.hist(df[\"BodyTemp_numeric\"], bins=31)\n",
    "\n",
    "plt.show()"
   ]
  },
  {
   "cell_type": "code",
   "execution_count": null,
   "metadata": {},
   "outputs": [],
   "source": []
  },
  {
   "cell_type": "code",
   "execution_count": 10,
   "metadata": {},
   "outputs": [],
   "source": [
    "from Processing.CategoricalProcessing import CategoricalToNumericalNorm as c2nn"
   ]
  },
  {
   "cell_type": "code",
   "execution_count": 11,
   "metadata": {},
   "outputs": [],
   "source": [
    "category_inter = c2nn.create_category_intervals(df[\"BodyTemp\"].values)\n",
    "\n",
    "df[\"BodyTemp_numeric\"] = df[\"BodyTemp\"].apply(lambda x: c2nn.generate_number(x, category_inter))"
   ]
  },
  {
   "cell_type": "code",
   "execution_count": null,
   "metadata": {},
   "outputs": [],
   "source": []
  }
 ],
 "metadata": {
  "kernelspec": {
   "display_name": "venv",
   "language": "python",
   "name": "python3"
  },
  "language_info": {
   "codemirror_mode": {
    "name": "ipython",
    "version": 3
   },
   "file_extension": ".py",
   "mimetype": "text/x-python",
   "name": "python",
   "nbconvert_exporter": "python",
   "pygments_lexer": "ipython3",
   "version": "3.9.7"
  }
 },
 "nbformat": 4,
 "nbformat_minor": 2
}
