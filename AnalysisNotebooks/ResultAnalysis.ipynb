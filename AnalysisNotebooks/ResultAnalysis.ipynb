{
 "cells": [
  {
   "cell_type": "code",
   "execution_count": 1,
   "metadata": {},
   "outputs": [],
   "source": [
    "import os\n",
    "os.chdir(\"..\")\n",
    "\n",
    "import warnings\n",
    "warnings.simplefilter(\"ignore\", category=UserWarning)"
   ]
  },
  {
   "cell_type": "code",
   "execution_count": 2,
   "metadata": {},
   "outputs": [],
   "source": [
    "import pickle\n",
    "import pandas as pd\n",
    "import numpy as np\n",
    "import matplotlib.pyplot as plt\n",
    "import scipy as sp"
   ]
  },
  {
   "cell_type": "code",
   "execution_count": 3,
   "metadata": {},
   "outputs": [],
   "source": [
    "metrics_skm_list = [\"accuracy\", \"kappa\", \"f1_score\"]\n",
    "dataset_list = [\"Adult\", \"Maternal\"]"
   ]
  },
  {
   "cell_type": "code",
   "execution_count": null,
   "metadata": {},
   "outputs": [],
   "source": []
  },
  {
   "cell_type": "code",
   "execution_count": 4,
   "metadata": {},
   "outputs": [
    {
     "name": "stdout",
     "output_type": "stream",
     "text": [
      "Adult\n"
     ]
    },
    {
     "data": {
      "text/html": [
       "<div>\n",
       "<style scoped>\n",
       "    .dataframe tbody tr th:only-of-type {\n",
       "        vertical-align: middle;\n",
       "    }\n",
       "\n",
       "    .dataframe tbody tr th {\n",
       "        vertical-align: top;\n",
       "    }\n",
       "\n",
       "    .dataframe thead th {\n",
       "        text-align: right;\n",
       "    }\n",
       "</style>\n",
       "<table border=\"1\" class=\"dataframe\">\n",
       "  <thead>\n",
       "    <tr style=\"text-align: right;\">\n",
       "      <th></th>\n",
       "      <th>model_name</th>\n",
       "      <th>accuracy</th>\n",
       "      <th>kappa</th>\n",
       "      <th>f1_score</th>\n",
       "    </tr>\n",
       "  </thead>\n",
       "  <tbody>\n",
       "    <tr>\n",
       "      <th>0</th>\n",
       "      <td>LinearNN</td>\n",
       "      <td>0.635550</td>\n",
       "      <td>0.271776</td>\n",
       "      <td>0.611230</td>\n",
       "    </tr>\n",
       "    <tr>\n",
       "      <th>1</th>\n",
       "      <td>SDV</td>\n",
       "      <td>0.943942</td>\n",
       "      <td>0.887683</td>\n",
       "      <td>0.947258</td>\n",
       "    </tr>\n",
       "  </tbody>\n",
       "</table>\n",
       "</div>"
      ],
      "text/plain": [
       "  model_name  accuracy     kappa  f1_score\n",
       "0   LinearNN  0.635550  0.271776  0.611230\n",
       "1        SDV  0.943942  0.887683  0.947258"
      ]
     },
     "metadata": {},
     "output_type": "display_data"
    },
    {
     "name": "stdout",
     "output_type": "stream",
     "text": [
      "Maternal\n"
     ]
    },
    {
     "data": {
      "text/html": [
       "<div>\n",
       "<style scoped>\n",
       "    .dataframe tbody tr th:only-of-type {\n",
       "        vertical-align: middle;\n",
       "    }\n",
       "\n",
       "    .dataframe tbody tr th {\n",
       "        vertical-align: top;\n",
       "    }\n",
       "\n",
       "    .dataframe thead th {\n",
       "        text-align: right;\n",
       "    }\n",
       "</style>\n",
       "<table border=\"1\" class=\"dataframe\">\n",
       "  <thead>\n",
       "    <tr style=\"text-align: right;\">\n",
       "      <th></th>\n",
       "      <th>model_name</th>\n",
       "      <th>accuracy</th>\n",
       "      <th>kappa</th>\n",
       "      <th>f1_score</th>\n",
       "    </tr>\n",
       "  </thead>\n",
       "  <tbody>\n",
       "    <tr>\n",
       "      <th>0</th>\n",
       "      <td>LinearNN</td>\n",
       "      <td>0.580892</td>\n",
       "      <td>0.164543</td>\n",
       "      <td>0.572548</td>\n",
       "    </tr>\n",
       "    <tr>\n",
       "      <th>1</th>\n",
       "      <td>SDV</td>\n",
       "      <td>0.574708</td>\n",
       "      <td>0.152396</td>\n",
       "      <td>0.559492</td>\n",
       "    </tr>\n",
       "  </tbody>\n",
       "</table>\n",
       "</div>"
      ],
      "text/plain": [
       "  model_name  accuracy     kappa  f1_score\n",
       "0   LinearNN  0.580892  0.164543  0.572548\n",
       "1        SDV  0.574708  0.152396  0.559492"
      ]
     },
     "metadata": {},
     "output_type": "display_data"
    }
   ],
   "source": [
    "result_file_list = os.listdir(\"Results/\")\n",
    "\n",
    "for data_name in dataset_list:\n",
    "    selected_files = [f for f in result_file_list if data_name in f]\n",
    "\n",
    "    result_load_dict = {}\n",
    "    for file_name in selected_files:\n",
    "        with open(f\"Results/{file_name}\", 'rb') as f:\n",
    "            result_load_dict.update({file_name.split(\".\")[0]: pickle.load(f)})\n",
    "\n",
    "    print(data_name)\n",
    "\n",
    "    help_list = []\n",
    "    for k, v in result_load_dict.items():\n",
    "        df_res_ml = v[\"ml_difference_real_generated_data\"]\n",
    "        \n",
    "        dict_help = {\n",
    "            \"model_name\": k.split(\"_\")[-1]\n",
    "        }\n",
    "        dict_help.update(\n",
    "            {k: v for k, v in df_res_ml[metrics_skm_list].mean().to_dict().items()}\n",
    "        )\n",
    "        help_list.append(dict_help)\n",
    "\n",
    "    df_result_summary = pd.DataFrame(help_list)\n",
    "    display(df_result_summary)"
   ]
  },
  {
   "cell_type": "code",
   "execution_count": null,
   "metadata": {},
   "outputs": [],
   "source": []
  }
 ],
 "metadata": {
  "kernelspec": {
   "display_name": "venv",
   "language": "python",
   "name": "python3"
  },
  "language_info": {
   "codemirror_mode": {
    "name": "ipython",
    "version": 3
   },
   "file_extension": ".py",
   "mimetype": "text/x-python",
   "name": "python",
   "nbconvert_exporter": "python",
   "pygments_lexer": "ipython3",
   "version": "3.9.7"
  }
 },
 "nbformat": 4,
 "nbformat_minor": 2
}
