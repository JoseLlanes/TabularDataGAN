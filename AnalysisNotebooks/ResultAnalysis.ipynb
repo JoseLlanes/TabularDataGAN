{
 "cells": [
  {
   "cell_type": "code",
   "execution_count": 1,
   "metadata": {},
   "outputs": [],
   "source": [
    "import os\n",
    "os.chdir(\"..\")\n",
    "\n",
    "import warnings\n",
    "warnings.simplefilter(\"ignore\", category=UserWarning)"
   ]
  },
  {
   "cell_type": "code",
   "execution_count": 2,
   "metadata": {},
   "outputs": [],
   "source": [
    "import pickle\n",
    "import pandas as pd\n",
    "import numpy as np\n",
    "import matplotlib.pyplot as plt\n",
    "import scipy as sp"
   ]
  },
  {
   "cell_type": "code",
   "execution_count": 30,
   "metadata": {},
   "outputs": [],
   "source": [
    "metrics_skm_list = [\"accuracy\", \"kappa\", \"f1_score\"]\n",
    "dataset_list = [\"Adult\", \"Maternal\", \"Titanic\"]"
   ]
  },
  {
   "cell_type": "code",
   "execution_count": null,
   "metadata": {},
   "outputs": [],
   "source": []
  },
  {
   "cell_type": "code",
   "execution_count": 34,
   "metadata": {},
   "outputs": [
    {
     "name": "stdout",
     "output_type": "stream",
     "text": [
      "Adult\n"
     ]
    },
    {
     "data": {
      "text/html": [
       "<div>\n",
       "<style scoped>\n",
       "    .dataframe tbody tr th:only-of-type {\n",
       "        vertical-align: middle;\n",
       "    }\n",
       "\n",
       "    .dataframe tbody tr th {\n",
       "        vertical-align: top;\n",
       "    }\n",
       "\n",
       "    .dataframe thead th {\n",
       "        text-align: right;\n",
       "    }\n",
       "</style>\n",
       "<table border=\"1\" class=\"dataframe\">\n",
       "  <thead>\n",
       "    <tr style=\"text-align: right;\">\n",
       "      <th></th>\n",
       "      <th>model_name</th>\n",
       "      <th>accuracy</th>\n",
       "      <th>kappa</th>\n",
       "      <th>f1_score</th>\n",
       "    </tr>\n",
       "  </thead>\n",
       "  <tbody>\n",
       "    <tr>\n",
       "      <th>0</th>\n",
       "      <td>LinearNN-iqr-covmat-integral</td>\n",
       "      <td>0.660425</td>\n",
       "      <td>0.321434</td>\n",
       "      <td>0.650331</td>\n",
       "    </tr>\n",
       "    <tr>\n",
       "      <th>1</th>\n",
       "      <td>LinearNN-both-loss_iqr-covmat-integral</td>\n",
       "      <td>0.721017</td>\n",
       "      <td>0.442019</td>\n",
       "      <td>0.718720</td>\n",
       "    </tr>\n",
       "    <tr>\n",
       "      <th>2</th>\n",
       "      <td>SDV-GaussianCopulaSynthesizer</td>\n",
       "      <td>0.966983</td>\n",
       "      <td>0.933760</td>\n",
       "      <td>0.967342</td>\n",
       "    </tr>\n",
       "    <tr>\n",
       "      <th>3</th>\n",
       "      <td>LinearNN-BCELoss</td>\n",
       "      <td>0.999125</td>\n",
       "      <td>0.998244</td>\n",
       "      <td>0.999126</td>\n",
       "    </tr>\n",
       "  </tbody>\n",
       "</table>\n",
       "</div>"
      ],
      "text/plain": [
       "                               model_name  accuracy     kappa  f1_score\n",
       "0            LinearNN-iqr-covmat-integral  0.660425  0.321434  0.650331\n",
       "1  LinearNN-both-loss_iqr-covmat-integral  0.721017  0.442019  0.718720\n",
       "2           SDV-GaussianCopulaSynthesizer  0.966983  0.933760  0.967342\n",
       "3                        LinearNN-BCELoss  0.999125  0.998244  0.999126"
      ]
     },
     "metadata": {},
     "output_type": "display_data"
    },
    {
     "name": "stdout",
     "output_type": "stream",
     "text": [
      "Maternal\n"
     ]
    },
    {
     "data": {
      "text/html": [
       "<div>\n",
       "<style scoped>\n",
       "    .dataframe tbody tr th:only-of-type {\n",
       "        vertical-align: middle;\n",
       "    }\n",
       "\n",
       "    .dataframe tbody tr th {\n",
       "        vertical-align: top;\n",
       "    }\n",
       "\n",
       "    .dataframe thead th {\n",
       "        text-align: right;\n",
       "    }\n",
       "</style>\n",
       "<table border=\"1\" class=\"dataframe\">\n",
       "  <thead>\n",
       "    <tr style=\"text-align: right;\">\n",
       "      <th></th>\n",
       "      <th>model_name</th>\n",
       "      <th>accuracy</th>\n",
       "      <th>kappa</th>\n",
       "      <th>f1_score</th>\n",
       "    </tr>\n",
       "  </thead>\n",
       "  <tbody>\n",
       "    <tr>\n",
       "      <th>0</th>\n",
       "      <td>LinearNN-both-loss_iqr-covmat-integral</td>\n",
       "      <td>0.565767</td>\n",
       "      <td>0.134934</td>\n",
       "      <td>0.553566</td>\n",
       "    </tr>\n",
       "    <tr>\n",
       "      <th>1</th>\n",
       "      <td>SDV-GaussianCopulaSynthesizer</td>\n",
       "      <td>0.589142</td>\n",
       "      <td>0.180724</td>\n",
       "      <td>0.577789</td>\n",
       "    </tr>\n",
       "    <tr>\n",
       "      <th>2</th>\n",
       "      <td>LinearNN-iqr-covmat-integral</td>\n",
       "      <td>0.601442</td>\n",
       "      <td>0.204708</td>\n",
       "      <td>0.586998</td>\n",
       "    </tr>\n",
       "    <tr>\n",
       "      <th>3</th>\n",
       "      <td>LinearNN-BCELoss</td>\n",
       "      <td>0.977492</td>\n",
       "      <td>0.954848</td>\n",
       "      <td>0.976968</td>\n",
       "    </tr>\n",
       "  </tbody>\n",
       "</table>\n",
       "</div>"
      ],
      "text/plain": [
       "                               model_name  accuracy     kappa  f1_score\n",
       "0  LinearNN-both-loss_iqr-covmat-integral  0.565767  0.134934  0.553566\n",
       "1           SDV-GaussianCopulaSynthesizer  0.589142  0.180724  0.577789\n",
       "2            LinearNN-iqr-covmat-integral  0.601442  0.204708  0.586998\n",
       "3                        LinearNN-BCELoss  0.977492  0.954848  0.976968"
      ]
     },
     "metadata": {},
     "output_type": "display_data"
    },
    {
     "name": "stdout",
     "output_type": "stream",
     "text": [
      "Titanic\n"
     ]
    },
    {
     "data": {
      "text/html": [
       "<div>\n",
       "<style scoped>\n",
       "    .dataframe tbody tr th:only-of-type {\n",
       "        vertical-align: middle;\n",
       "    }\n",
       "\n",
       "    .dataframe tbody tr th {\n",
       "        vertical-align: top;\n",
       "    }\n",
       "\n",
       "    .dataframe thead th {\n",
       "        text-align: right;\n",
       "    }\n",
       "</style>\n",
       "<table border=\"1\" class=\"dataframe\">\n",
       "  <thead>\n",
       "    <tr style=\"text-align: right;\">\n",
       "      <th></th>\n",
       "      <th>model_name</th>\n",
       "      <th>accuracy</th>\n",
       "      <th>kappa</th>\n",
       "      <th>f1_score</th>\n",
       "    </tr>\n",
       "  </thead>\n",
       "  <tbody>\n",
       "    <tr>\n",
       "      <th>0</th>\n",
       "      <td>LinearNN-iqr-covmat-integral</td>\n",
       "      <td>0.541558</td>\n",
       "      <td>0.088212</td>\n",
       "      <td>0.532390</td>\n",
       "    </tr>\n",
       "    <tr>\n",
       "      <th>1</th>\n",
       "      <td>SDV-GaussianCopulaSynthesizer</td>\n",
       "      <td>0.569317</td>\n",
       "      <td>0.140859</td>\n",
       "      <td>0.575669</td>\n",
       "    </tr>\n",
       "    <tr>\n",
       "      <th>2</th>\n",
       "      <td>LinearNN-both-loss_iqr-covmat-integral</td>\n",
       "      <td>0.614342</td>\n",
       "      <td>0.230085</td>\n",
       "      <td>0.603871</td>\n",
       "    </tr>\n",
       "    <tr>\n",
       "      <th>3</th>\n",
       "      <td>LinearNN-BCELoss</td>\n",
       "      <td>0.990933</td>\n",
       "      <td>0.981806</td>\n",
       "      <td>0.990785</td>\n",
       "    </tr>\n",
       "  </tbody>\n",
       "</table>\n",
       "</div>"
      ],
      "text/plain": [
       "                               model_name  accuracy     kappa  f1_score\n",
       "0            LinearNN-iqr-covmat-integral  0.541558  0.088212  0.532390\n",
       "1           SDV-GaussianCopulaSynthesizer  0.569317  0.140859  0.575669\n",
       "2  LinearNN-both-loss_iqr-covmat-integral  0.614342  0.230085  0.603871\n",
       "3                        LinearNN-BCELoss  0.990933  0.981806  0.990785"
      ]
     },
     "metadata": {},
     "output_type": "display_data"
    }
   ],
   "source": [
    "result_file_list = os.listdir(\"Results/\")\n",
    "\n",
    "for data_name in dataset_list:\n",
    "    selected_files = [f for f in result_file_list if data_name in f]\n",
    "\n",
    "    result_load_dict = {}\n",
    "    for file_name in selected_files:\n",
    "        with open(f\"Results/{file_name}\", 'rb') as f:\n",
    "            result_load_dict.update({file_name.split(\".\")[0]: pickle.load(f)})\n",
    "\n",
    "    print(data_name)\n",
    "\n",
    "    help_list = []\n",
    "    for k, v in result_load_dict.items():\n",
    "        df_res_ml = v[\"ml_difference_real_generated_data\"]\n",
    "        \n",
    "        if not any([metric in df_res_ml.columns for metric in metrics_skm_list]):\n",
    "            continue\n",
    "        \n",
    "        dict_help = {\"model_name\": \"_\".join(k.split(\"_\")[2:])}\n",
    "        dict_help.update(\n",
    "            {k: v for k, v in df_res_ml[metrics_skm_list].mean().to_dict().items()}\n",
    "        )\n",
    "        help_list.append(dict_help)\n",
    "\n",
    "    df_result_summary = pd.DataFrame(help_list).sort_values(\"accuracy\").reset_index(drop=True)\n",
    "    display(df_result_summary)"
   ]
  },
  {
   "cell_type": "code",
   "execution_count": null,
   "metadata": {},
   "outputs": [],
   "source": []
  }
 ],
 "metadata": {
  "kernelspec": {
   "display_name": "venv",
   "language": "python",
   "name": "python3"
  },
  "language_info": {
   "codemirror_mode": {
    "name": "ipython",
    "version": 3
   },
   "file_extension": ".py",
   "mimetype": "text/x-python",
   "name": "python",
   "nbconvert_exporter": "python",
   "pygments_lexer": "ipython3",
   "version": "3.9.7"
  }
 },
 "nbformat": 4,
 "nbformat_minor": 2
}
